{
 "cells": [
  {
   "cell_type": "code",
   "execution_count": 1,
   "metadata": {},
   "outputs": [],
   "source": [
    "import findspark\n",
    "findspark.init()"
   ]
  },
  {
   "cell_type": "code",
   "execution_count": 2,
   "metadata": {},
   "outputs": [],
   "source": [
    "from pyspark import SparkContext\n",
    "sc = SparkContext()"
   ]
  },
  {
   "cell_type": "code",
   "execution_count": 3,
   "metadata": {},
   "outputs": [],
   "source": [
    "from pyspark.sql import SparkSession\n",
    "spark = SparkSession.builder.getOrCreate()"
   ]
  },
  {
   "cell_type": "code",
   "execution_count": 4,
   "metadata": {},
   "outputs": [],
   "source": [
    "#funtion for CSV conversion\n",
    "def xml2csv(line,tags_list):\n",
    "    offset=0\n",
    "    result=\"\"\n",
    "    for i in tags_list:\n",
    "        val=\"\"\n",
    "        patt=i+\"=\"\n",
    "        ind=line.find(patt,offset)\n",
    "        if(ind==-1):\n",
    "            result+=','\n",
    "            continue\n",
    "        ind+=(len(i)+2)\n",
    "        val+='\\\"'\n",
    "        while(line[ind]!='\\\"'):\n",
    "            val+=line[ind]\n",
    "            ind+=1\n",
    "        val+='\\\"'\n",
    "        result+=val+','\n",
    "        offset=ind\n",
    "    return result[:-1]"
   ]
  },
  {
   "cell_type": "code",
   "execution_count": 5,
   "metadata": {},
   "outputs": [],
   "source": [
    "fileName = 's3://my4dbucket/math/Posts.xml'"
   ]
  },
  {
   "cell_type": "code",
   "execution_count": 6,
   "metadata": {},
   "outputs": [],
   "source": [
    "# The raw XML file\n",
    "raw = (sc.textFile(fileName, 4))"
   ]
  },
  {
   "cell_type": "code",
   "execution_count": 7,
   "metadata": {},
   "outputs": [],
   "source": [
    "#Removing top 2 lines form XML file,they're just XML root\n",
    "headers = raw.take(2)\n",
    "UsersRDD = raw.filter(lambda x: (x != headers[0]) & (x != headers[1]))"
   ]
  },
  {
   "cell_type": "code",
   "execution_count": 8,
   "metadata": {},
   "outputs": [
    {
     "data": {
      "text/plain": [
       "['  <row Id=\"1\" PostTypeId=\"1\" AcceptedAnswerId=\"9\" CreationDate=\"2010-07-20T19:09:27.200\" Score=\"156\" ViewCount=\"8964\" Body=\"&lt;p&gt;Can someone explain to me how there can be different kinds of infinities?&lt;/p&gt;&#xA;&#xA;&lt;p&gt;I was reading &quot;&lt;a href=&quot;http://en.wikipedia.org/wiki/The_Man_Who_Loved_Only_Numbers&quot; rel=&quot;noreferrer&quot;&gt;The man who loved only numbers&lt;/a&gt;&quot; by &lt;a href=&quot;http://en.wikipedia.org/wiki/Paul_Hoffman_(science_writer)&quot; rel=&quot;noreferrer&quot;&gt;Paul Hoffman&lt;/a&gt; and came across the concept of countable and uncountable infinities, but they\\'re only words to me.&lt;/p&gt;&#xA;&#xA;&lt;p&gt;Any help would be appreciated.&lt;/p&gt;&#xA;\" OwnerUserId=\"10\" LastEditorUserId=\"32803\" LastEditorDisplayName=\"user126\" LastEditDate=\"2018-03-01T19:53:22.017\" LastActivityDate=\"2020-01-28T03:26:12.530\" Title=\"What Does it Really Mean to Have Different Kinds of Infinities?\" Tags=\"&lt;elementary-set-theory&gt;&lt;intuition&gt;&lt;infinity&gt;&lt;faq&gt;\" AnswerCount=\"9\" CommentCount=\"0\" FavoriteCount=\"44\" ContentLicense=\"CC BY-SA 3.0\" />',\n",
       " '  <row Id=\"3\" PostTypeId=\"1\" CreationDate=\"2010-07-20T19:12:14.353\" Score=\"120\" ViewCount=\"71991\" Body=\"&lt;p&gt;&lt;a href=&quot;http://mathfactor.uark.edu/&quot;&gt;mathfactor&lt;/a&gt; is one I listen to.  Does anyone else have a recommendation?&lt;/p&gt;&#xA;\" OwnerUserId=\"29\" LastEditorUserId=\"498\" LastEditorDisplayName=\"user126\" LastEditDate=\"2012-07-31T13:58:15.730\" LastActivityDate=\"2020-04-23T02:46:35.977\" Title=\"List of interesting math podcasts?\" Tags=\"&lt;soft-question&gt;&lt;big-list&gt;&lt;online-resources&gt;\" AnswerCount=\"21\" CommentCount=\"4\" FavoriteCount=\"80\" CommunityOwnedDate=\"2010-07-20T20:35:23.263\" ContentLicense=\"CC BY-SA 3.0\" />',\n",
       " '  <row Id=\"4\" PostTypeId=\"2\" ParentId=\"3\" CreationDate=\"2010-07-20T19:14:10.603\" Score=\"11\" Body=\"&lt;p&gt;&lt;a href=&quot;http://www.bbc.co.uk/podcasts/series/moreorless&quot; rel=&quot;noreferrer&quot;&gt;More or Less&lt;/a&gt; is a BBC Radio 4 programme about maths and statistics in the news, and there is a free podcast. It\\'s presented by &lt;a href=&quot;http://timharford.com/&quot; rel=&quot;noreferrer&quot;&gt;Tim Harford&lt;/a&gt;, the Undercover Economist from the &lt;a href=&quot;http://www.ft.com/home/uk&quot; rel=&quot;noreferrer&quot;&gt;Financial Times&lt;/a&gt;.&lt;/p&gt;&#xA;\" OwnerUserId=\"31\" LastActivityDate=\"2010-07-20T19:14:10.603\" CommentCount=\"2\" CommunityOwnedDate=\"2010-07-20T20:35:23.263\" ContentLicense=\"CC BY-SA 2.5\" />']"
      ]
     },
     "execution_count": 8,
     "metadata": {},
     "output_type": "execute_result"
    }
   ],
   "source": [
    "#Take a quick look at XML file\n",
    "UsersRDD.take(3)"
   ]
  },
  {
   "cell_type": "code",
   "execution_count": 9,
   "metadata": {},
   "outputs": [],
   "source": [
    "#FieldNames for Analyze\n",
    "tags_list=['Id', 'PostTypeId', 'CreationDate', 'Score', 'ViewCount', 'Tags', 'AnswerCount', 'CommentCount']"
   ]
  },
  {
   "cell_type": "code",
   "execution_count": 10,
   "metadata": {},
   "outputs": [],
   "source": [
    "#Turn RDD to csv format\n",
    "Users_csvRDD=UsersRDD.map(lambda x:xml2csv(x,tags_list))"
   ]
  },
  {
   "cell_type": "code",
   "execution_count": 11,
   "metadata": {},
   "outputs": [
    {
     "data": {
      "text/plain": [
       "['\"1\",\"1\",\"2010-07-20T19:09:27.200\",\"156\",\"8964\",\"&lt;elementary-set-theory&gt;&lt;intuition&gt;&lt;infinity&gt;&lt;faq&gt;\",\"9\",\"0\"',\n",
       " '\"3\",\"1\",\"2010-07-20T19:12:14.353\",\"120\",\"71991\",\"&lt;soft-question&gt;&lt;big-list&gt;&lt;online-resources&gt;\",\"21\",\"4\"',\n",
       " '\"4\",\"2\",\"2010-07-20T19:14:10.603\",\"11\",,,,\"2\"']"
      ]
     },
     "execution_count": 11,
     "metadata": {},
     "output_type": "execute_result"
    }
   ],
   "source": [
    "#Take a look at the data after conversion\n",
    "Users_csvRDD.take(3)"
   ]
  },
  {
   "cell_type": "code",
   "execution_count": 12,
   "metadata": {},
   "outputs": [],
   "source": [
    "#Folder path to save processed files\n",
    "targetFile = './Post_csv'"
   ]
  },
  {
   "cell_type": "code",
   "execution_count": 13,
   "metadata": {},
   "outputs": [],
   "source": [
    "#Save file\n",
    "Users_csvRDD.saveAsTextFile(targetFile)"
   ]
  },
  {
   "cell_type": "code",
   "execution_count": 14,
   "metadata": {},
   "outputs": [],
   "source": [
    "#Read in csv file\n",
    "post = sc.textFile('./Post_csv').cache()"
   ]
  },
  {
   "cell_type": "code",
   "execution_count": 15,
   "metadata": {},
   "outputs": [
    {
     "data": {
      "text/plain": [
       "['\"1\",\"1\",\"2010-07-20T19:09:27.200\",\"156\",\"8964\",\"&lt;elementary-set-theory&gt;&lt;intuition&gt;&lt;infinity&gt;&lt;faq&gt;\",\"9\",\"0\"',\n",
       " '\"3\",\"1\",\"2010-07-20T19:12:14.353\",\"120\",\"71991\",\"&lt;soft-question&gt;&lt;big-list&gt;&lt;online-resources&gt;\",\"21\",\"4\"',\n",
       " '\"4\",\"2\",\"2010-07-20T19:14:10.603\",\"11\",,,,\"2\"']"
      ]
     },
     "execution_count": 15,
     "metadata": {},
     "output_type": "execute_result"
    }
   ],
   "source": [
    "#Take a look at the data after reading in\n",
    "post.take(3)"
   ]
  },
  {
   "cell_type": "code",
   "execution_count": 16,
   "metadata": {},
   "outputs": [],
   "source": [
    "import sys\n",
    "import os,datetime,re\n",
    "\n",
    "#Turn data into different parts for further use\n",
    "class math_post():\n",
    "    def __init__(self, record):\n",
    "        self.Id = re.split(\",(?=(?:[^\\\"]*\\\"[^\\\"]*\\\")*[^\\\"]*$)\", record)[0]\n",
    "        self.PostTypeId = re.split(\",(?=(?:[^\\\"]*\\\"[^\\\"]*\\\")*[^\\\"]*$)\", record)[1]\n",
    "        self.CreationDate = re.split(\",(?=(?:[^\\\"]*\\\"[^\\\"]*\\\")*[^\\\"]*$)\", record)[2]\n",
    "        self.Score = re.split(\",(?=(?:[^\\\"]*\\\"[^\\\"]*\\\")*[^\\\"]*$)\", record)[3]\n",
    "        self.ViewCount = re.split(\",(?=(?:[^\\\"]*\\\"[^\\\"]*\\\")*[^\\\"]*$)\" , record)[4]\n",
    "        self.Tags = re.split(\",(?=(?:[^\\\"]*\\\"[^\\\"]*\\\")*[^\\\"]*$)\" , record)[5]\n",
    "        self.AnswerCount = re.split(\",(?=(?:[^\\\"]*\\\"[^\\\"]*\\\")*[^\\\"]*$)\" , record)[6]\n",
    "        self.CommentCount = re.split(\",(?=(?:[^\\\"]*\\\"[^\\\"]*\\\")*[^\\\"]*$)\" , record)[7]"
   ]
  },
  {
   "cell_type": "code",
   "execution_count": 17,
   "metadata": {},
   "outputs": [
    {
     "data": {
      "text/plain": [
       "[Row(AnswerCount='\"9\"', CommentCount='\"0\"', CreationDate='\"2010-07-20T19:09:27.200\"', Id='\"1\"', PostTypeId='\"1\"', Score='\"156\"', Tags='\"&lt;elementary-set-theory&gt;&lt;intuition&gt;&lt;infinity&gt;&lt;faq&gt;\"', ViewCount='\"8964\"'),\n",
       " Row(AnswerCount='\"21\"', CommentCount='\"4\"', CreationDate='\"2010-07-20T19:12:14.353\"', Id='\"3\"', PostTypeId='\"1\"', Score='\"120\"', Tags='\"&lt;soft-question&gt;&lt;big-list&gt;&lt;online-resources&gt;\"', ViewCount='\"71991\"'),\n",
       " Row(AnswerCount='', CommentCount='\"2\"', CreationDate='\"2010-07-20T19:14:10.603\"', Id='\"4\"', PostTypeId='\"2\"', Score='\"11\"', Tags='', ViewCount='')]"
      ]
     },
     "execution_count": 17,
     "metadata": {},
     "output_type": "execute_result"
    }
   ],
   "source": [
    "from pyspark.sql import Row\n",
    "#Turn data into rows\n",
    "lines = post.map(lambda record: math_post(record)).map(lambda q: Row(Id = q.Id,\n",
    "                                                                     PostTypeId = q.PostTypeId,\n",
    "                                                                     CreationDate= q.CreationDate,\n",
    "                                                                     Score = q.Score,\n",
    "                                                                     ViewCount = q.ViewCount,\n",
    "                                                                     Tags = q.Tags,\n",
    "                                                                     AnswerCount = q.AnswerCount,\n",
    "                                                                     CommentCount = q.CommentCount\n",
    "                                                                    ))\n",
    "lines.take(3)"
   ]
  },
  {
   "cell_type": "code",
   "execution_count": 18,
   "metadata": {},
   "outputs": [],
   "source": [
    "#Create a dataframe and cache it for quick use\n",
    "temp = spark.createDataFrame(lines).cache()"
   ]
  },
  {
   "cell_type": "code",
   "execution_count": 19,
   "metadata": {},
   "outputs": [],
   "source": [
    "from pyspark.sql.types import *\n",
    "from pyspark.sql.functions import *\n",
    "from pyspark.sql.functions import unix_timestamp, from_unixtime\n",
    "\n",
    "def stripDQ(string):\n",
    "    return string.replace('\"', \"\")\n",
    "from pyspark.sql.functions import udf\n",
    "from pyspark.sql.types import StringType, IntegerType\n",
    "udf_stripDQ = udf(stripDQ, StringType())"
   ]
  },
  {
   "cell_type": "code",
   "execution_count": 20,
   "metadata": {},
   "outputs": [],
   "source": [
    "#Get rid of the qoutes\n",
    "post_df = temp.withColumn(\"ViewCount\", udf_stripDQ(temp[\"ViewCount\"]))\n",
    "post_df = post_df.withColumn(\"CreationDate\", udf_stripDQ(temp[\"CreationDate\"]))\n",
    "post_df = post_df.withColumn(\"Id\", udf_stripDQ(temp[\"Id\"]))\n",
    "post_df = post_df.withColumn(\"Score\", udf_stripDQ(temp[\"Score\"]))\n",
    "post_df = post_df.withColumn(\"PostTypeId\", udf_stripDQ(temp[\"PostTypeId\"]))\n",
    "post_df = post_df.withColumn(\"Tags\", udf_stripDQ(temp[\"Tags\"]))\n",
    "post_df = post_df.withColumn(\"AnswerCount\", udf_stripDQ(temp[\"AnswerCount\"]))\n",
    "post_df = post_df.withColumn(\"CommentCount\", udf_stripDQ(temp[\"CommentCount\"]))"
   ]
  },
  {
   "cell_type": "code",
   "execution_count": 21,
   "metadata": {},
   "outputs": [],
   "source": [
    "#Cast data to integer data type\n",
    "post_df = post_df.withColumn(\"Score\", post_df[\"Score\"].cast(IntegerType()))\n",
    "post_df = post_df.withColumn(\"AnswerCount\", post_df[\"AnswerCount\"].cast(IntegerType()))\n",
    "post_df = post_df.withColumn(\"CommentCount\", post_df[\"CommentCount\"].cast(IntegerType()))\n",
    "post_df = post_df.withColumn(\"ViewCount\", post_df[\"ViewCount\"].cast(IntegerType()))\n",
    "post_df = post_df.withColumn(\"PostTypeId\", post_df[\"PostTypeId\"].cast(IntegerType()))\n",
    "post_df = post_df.fillna(0, subset=['AnswerCount', 'ViewCount', 'CommentCount', 'Score'])"
   ]
  },
  {
   "cell_type": "code",
   "execution_count": 22,
   "metadata": {},
   "outputs": [
    {
     "name": "stdout",
     "output_type": "stream",
     "text": [
      "+-----------+------------+--------------------+---+----------+-----+--------------------+---------+\n",
      "|AnswerCount|CommentCount|        CreationDate| Id|PostTypeId|Score|                Tags|ViewCount|\n",
      "+-----------+------------+--------------------+---+----------+-----+--------------------+---------+\n",
      "|          9|           0|2010-07-20T19:09:...|  1|         1|  156|&lt;elementary-se...|     8964|\n",
      "|         21|           4|2010-07-20T19:12:...|  3|         1|  120|&lt;soft-question...|    71991|\n",
      "|          0|           2|2010-07-20T19:14:...|  4|         2|   11|                    |        0|\n",
      "|         14|           7|2010-07-20T19:18:...|  5|         1|   53|&lt;elementary-nu...|    13293|\n",
      "|          9|           0|2010-07-20T19:20:...|  6|         1|   42|&lt;soft-question...|     5273|\n",
      "+-----------+------------+--------------------+---+----------+-----+--------------------+---------+\n",
      "only showing top 5 rows\n",
      "\n"
     ]
    }
   ],
   "source": [
    "#The integer type column with null values are filled with 0\n",
    "post_df.show(5)"
   ]
  },
  {
   "cell_type": "code",
   "execution_count": 23,
   "metadata": {},
   "outputs": [
    {
     "name": "stdout",
     "output_type": "stream",
     "text": [
      "root\n",
      " |-- AnswerCount: integer (nullable = true)\n",
      " |-- CommentCount: integer (nullable = true)\n",
      " |-- CreationDate: string (nullable = true)\n",
      " |-- Id: string (nullable = true)\n",
      " |-- PostTypeId: integer (nullable = true)\n",
      " |-- Score: integer (nullable = true)\n",
      " |-- Tags: string (nullable = true)\n",
      " |-- ViewCount: integer (nullable = true)\n",
      "\n"
     ]
    }
   ],
   "source": [
    "#Take a quick look at data schema\n",
    "post_df.printSchema()"
   ]
  },
  {
   "cell_type": "code",
   "execution_count": 24,
   "metadata": {},
   "outputs": [],
   "source": [
    "# Import necessary libraries\n",
    "import numpy as np\n",
    "import pandas as pd\n",
    "import matplotlib.pyplot as plt\n",
    "import seaborn as sns\n",
    "sns.set(style=\"darkgrid\")\n",
    "%matplotlib inline\n",
    "import datetime\n",
    "\n",
    "from sklearn.metrics import f1_score, recall_score, precision_score\n",
    "from pyspark.sql import SparkSession\n",
    "import pyspark.sql.functions as F\n",
    "from pyspark.sql.types import IntegerType, DoubleType, DateType, FloatType"
   ]
  },
  {
   "cell_type": "markdown",
   "metadata": {},
   "source": [
    "## EDA"
   ]
  },
  {
   "cell_type": "code",
   "execution_count": 25,
   "metadata": {},
   "outputs": [],
   "source": [
    "#create a new table\n",
    "post_df.createOrReplaceTempView(\"post_tbl\")"
   ]
  },
  {
   "cell_type": "markdown",
   "metadata": {},
   "source": [
    "In our data the highest score is 1289 and it's created on 2011-02-09"
   ]
  },
  {
   "cell_type": "code",
   "execution_count": 26,
   "metadata": {},
   "outputs": [
    {
     "name": "stdout",
     "output_type": "stream",
     "text": [
      "+-----+-----------------------+\n",
      "|Score|CreationDate           |\n",
      "+-----+-----------------------+\n",
      "|1289 |2011-02-09T17:05:55.190|\n",
      "+-----+-----------------------+\n",
      "only showing top 1 row\n",
      "\n"
     ]
    }
   ],
   "source": [
    "spark.sql(\"SELECT Score, CreationDate FROM post_tbl ORDER BY Score DESC\").show(1, truncate = False)"
   ]
  },
  {
   "cell_type": "markdown",
   "metadata": {},
   "source": [
    "The post with most view count scores 33, and it's created on 2014-03-01"
   ]
  },
  {
   "cell_type": "code",
   "execution_count": 27,
   "metadata": {},
   "outputs": [
    {
     "name": "stdout",
     "output_type": "stream",
     "text": [
      "+-----+---------+-----------------------+\n",
      "|Score|ViewCount|CreationDate           |\n",
      "+-----+---------+-----------------------+\n",
      "|33   |705193   |2014-03-01T23:24:35.993|\n",
      "+-----+---------+-----------------------+\n",
      "only showing top 1 row\n",
      "\n"
     ]
    }
   ],
   "source": [
    "spark.sql(\"SELECT Score, ViewCount, CreationDate FROM post_tbl ORDER BY ViewCount DESC\").show(1, truncate = False)"
   ]
  },
  {
   "cell_type": "markdown",
   "metadata": {},
   "source": [
    "The post with highest score is type 2, answer."
   ]
  },
  {
   "cell_type": "code",
   "execution_count": 28,
   "metadata": {},
   "outputs": [
    {
     "name": "stdout",
     "output_type": "stream",
     "text": [
      "+-----+----------+\n",
      "|Score|PostTypeId|\n",
      "+-----+----------+\n",
      "|1289 |2         |\n",
      "+-----+----------+\n",
      "only showing top 1 row\n",
      "\n"
     ]
    }
   ],
   "source": [
    "spark.sql(\"SELECT Score, PostTypeId FROM post_tbl ORDER BY Score DESC\").show(1, truncate = False)"
   ]
  },
  {
   "cell_type": "markdown",
   "metadata": {},
   "source": [
    "The post with most comment count scores 3, and it's created on 2019-03-04"
   ]
  },
  {
   "cell_type": "code",
   "execution_count": 29,
   "metadata": {},
   "outputs": [
    {
     "name": "stdout",
     "output_type": "stream",
     "text": [
      "+-----+------------+-----------------------+\n",
      "|Score|CommentCount|CreationDate           |\n",
      "+-----+------------+-----------------------+\n",
      "|3    |111         |2019-03-04T15:40:11.613|\n",
      "+-----+------------+-----------------------+\n",
      "only showing top 1 row\n",
      "\n"
     ]
    }
   ],
   "source": [
    "spark.sql(\"SELECT Score, CommentCount, CreationDate FROM post_tbl ORDER BY CommentCount DESC\").show(1, truncate = False)"
   ]
  },
  {
   "cell_type": "markdown",
   "metadata": {},
   "source": [
    "The post with most answer count scores 665, and it's created on 2013-03-07"
   ]
  },
  {
   "cell_type": "code",
   "execution_count": 30,
   "metadata": {},
   "outputs": [
    {
     "name": "stdout",
     "output_type": "stream",
     "text": [
      "+-----+-----------+-----------------------+\n",
      "|Score|AnswerCount|CreationDate           |\n",
      "+-----+-----------+-----------------------+\n",
      "|665  |164        |2013-03-07T06:50:31.370|\n",
      "+-----+-----------+-----------------------+\n",
      "only showing top 1 row\n",
      "\n"
     ]
    }
   ],
   "source": [
    "spark.sql(\"SELECT Score, AnswerCount, CreationDate FROM post_tbl ORDER BY AnswerCount DESC\").show(1, truncate = False)"
   ]
  },
  {
   "cell_type": "markdown",
   "metadata": {},
   "source": [
    "### To have a more straightforward understanding, we take 1% of the data for plotting"
   ]
  },
  {
   "cell_type": "code",
   "execution_count": 31,
   "metadata": {},
   "outputs": [
    {
     "name": "stderr",
     "output_type": "stream",
     "text": [
      "/home/hadoop/miniconda/lib/python3.7/site-packages/pyarrow/util.py:39: FutureWarning: pyarrow.open_stream is deprecated as of 0.17.0, please use pyarrow.ipc.open_stream instead\n",
      "  warnings.warn(msg, FutureWarning)\n"
     ]
    }
   ],
   "source": [
    "# Sample 1% data for data exploration\n",
    "post_sampled_df = post_df.sample(False,0.01,1)\n",
    "post_sampled_pd = post_sampled_df.toPandas()"
   ]
  },
  {
   "cell_type": "markdown",
   "metadata": {},
   "source": [
    "The score distribution in general:"
   ]
  },
  {
   "cell_type": "code",
   "execution_count": 32,
   "metadata": {},
   "outputs": [
    {
     "data": {
      "image/png": "[encoded data removed]",
      "text/plain": [
       "<Figure size 1728x432 with 1 Axes>"
      ]
     },
     "metadata": {
      "needs_background": "light"
     },
     "output_type": "display_data"
    }
   ],
   "source": [
    "plt.figure(figsize=(24, 6))\n",
    "ax = sns.countplot(x=\"Score\", data=post_sampled_pd)"
   ]
  },
  {
   "cell_type": "markdown",
   "metadata": {},
   "source": [
    "#### Post Type"
   ]
  },
  {
   "cell_type": "code",
   "execution_count": 33,
   "metadata": {},
   "outputs": [
    {
     "data": {
      "text/html": [
       "<div>\n",
       "<style scoped>\n",
       "    .dataframe tbody tr th:only-of-type {\n",
       "        vertical-align: middle;\n",
       "    }\n",
       "\n",
       "    .dataframe tbody tr th {\n",
       "        vertical-align: top;\n",
       "    }\n",
       "\n",
       "    .dataframe thead th {\n",
       "        text-align: right;\n",
       "    }\n",
       "</style>\n",
       "<table border=\"1\" class=\"dataframe\">\n",
       "  <thead>\n",
       "    <tr style=\"text-align: right;\">\n",
       "      <th></th>\n",
       "      <th>Percentage</th>\n",
       "      <th>Mean_Score</th>\n",
       "    </tr>\n",
       "    <tr>\n",
       "      <th>PostTypeId</th>\n",
       "      <th></th>\n",
       "      <th></th>\n",
       "    </tr>\n",
       "  </thead>\n",
       "  <tbody>\n",
       "    <tr>\n",
       "      <th>1</th>\n",
       "      <td>0.420894</td>\n",
       "      <td>1.925352</td>\n",
       "    </tr>\n",
       "    <tr>\n",
       "      <th>2</th>\n",
       "      <td>0.577753</td>\n",
       "      <td>2.201428</td>\n",
       "    </tr>\n",
       "    <tr>\n",
       "      <th>4</th>\n",
       "      <td>0.000643</td>\n",
       "      <td>0.000000</td>\n",
       "    </tr>\n",
       "    <tr>\n",
       "      <th>5</th>\n",
       "      <td>0.000643</td>\n",
       "      <td>0.000000</td>\n",
       "    </tr>\n",
       "    <tr>\n",
       "      <th>6</th>\n",
       "      <td>0.000068</td>\n",
       "      <td>-25.500000</td>\n",
       "    </tr>\n",
       "  </tbody>\n",
       "</table>\n",
       "</div>"
      ],
      "text/plain": [
       "            Percentage  Mean_Score\n",
       "PostTypeId                        \n",
       "1             0.420894    1.925352\n",
       "2             0.577753    2.201428\n",
       "4             0.000643    0.000000\n",
       "5             0.000643    0.000000\n",
       "6             0.000068  -25.500000"
      ]
     },
     "execution_count": 33,
     "metadata": {},
     "output_type": "execute_result"
    }
   ],
   "source": [
    "# The major post type in the data and related mean score\n",
    "groupby_post_type_pd = pd.DataFrame({'Percentage': post_sampled_pd.groupby('PostTypeId').size() / len(post_sampled_pd), \n",
    "                                     'Mean_Score': post_sampled_pd.groupby(('PostTypeId'))['Score'].mean()})\n",
    "groupby_post_type_pd"
   ]
  },
  {
   "cell_type": "markdown",
   "metadata": {},
   "source": [
    "As we can tell from the table, the score is related to post type and the major post type is 1(question) and 2(answer). There're more answers in this forum and the average score tends to be higher as well. "
   ]
  },
  {
   "cell_type": "markdown",
   "metadata": {},
   "source": [
    "#### View Count"
   ]
  },
  {
   "cell_type": "code",
   "execution_count": 34,
   "metadata": {},
   "outputs": [
    {
     "data": {
      "text/plain": [
       "Text(0, 0.5, 'Score')"
      ]
     },
     "execution_count": 34,
     "metadata": {},
     "output_type": "execute_result"
    },
    {
     "data": {
      "image/png": "[encoded data removed]",
      "text/plain": [
       "<Figure size 720x432 with 1 Axes>"
      ]
     },
     "metadata": {
      "needs_background": "light"
     },
     "output_type": "display_data"
    }
   ],
   "source": [
    "plt.figure(figsize=(10, 6))\n",
    "plt.scatter(post_sampled_pd['ViewCount'], post_sampled_pd['Score'])\n",
    "plt.xlabel('View Count')\n",
    "plt.ylabel('Score')"
   ]
  },
  {
   "cell_type": "code",
   "execution_count": 35,
   "metadata": {},
   "outputs": [
    {
     "data": {
      "text/html": [
       "<div>\n",
       "<style scoped>\n",
       "    .dataframe tbody tr th:only-of-type {\n",
       "        vertical-align: middle;\n",
       "    }\n",
       "\n",
       "    .dataframe tbody tr th {\n",
       "        vertical-align: top;\n",
       "    }\n",
       "\n",
       "    .dataframe thead th {\n",
       "        text-align: right;\n",
       "    }\n",
       "</style>\n",
       "<table border=\"1\" class=\"dataframe\">\n",
       "  <thead>\n",
       "    <tr style=\"text-align: right;\">\n",
       "      <th></th>\n",
       "      <th>ViewCount</th>\n",
       "      <th>Mean_Score</th>\n",
       "    </tr>\n",
       "  </thead>\n",
       "  <tbody>\n",
       "    <tr>\n",
       "      <th>1933</th>\n",
       "      <td>172997</td>\n",
       "      <td>635.0</td>\n",
       "    </tr>\n",
       "    <tr>\n",
       "      <th>1925</th>\n",
       "      <td>73465</td>\n",
       "      <td>136.0</td>\n",
       "    </tr>\n",
       "    <tr>\n",
       "      <th>1921</th>\n",
       "      <td>56648</td>\n",
       "      <td>108.0</td>\n",
       "    </tr>\n",
       "    <tr>\n",
       "      <th>1740</th>\n",
       "      <td>6523</td>\n",
       "      <td>102.0</td>\n",
       "    </tr>\n",
       "    <tr>\n",
       "      <th>1931</th>\n",
       "      <td>144773</td>\n",
       "      <td>94.0</td>\n",
       "    </tr>\n",
       "    <tr>\n",
       "      <th>...</th>\n",
       "      <td>...</td>\n",
       "      <td>...</td>\n",
       "    </tr>\n",
       "    <tr>\n",
       "      <th>1131</th>\n",
       "      <td>1402</td>\n",
       "      <td>-2.0</td>\n",
       "    </tr>\n",
       "    <tr>\n",
       "      <th>1541</th>\n",
       "      <td>3075</td>\n",
       "      <td>-2.0</td>\n",
       "    </tr>\n",
       "    <tr>\n",
       "      <th>1512</th>\n",
       "      <td>2856</td>\n",
       "      <td>-2.0</td>\n",
       "    </tr>\n",
       "    <tr>\n",
       "      <th>1720</th>\n",
       "      <td>5811</td>\n",
       "      <td>-3.0</td>\n",
       "    </tr>\n",
       "    <tr>\n",
       "      <th>1452</th>\n",
       "      <td>2443</td>\n",
       "      <td>-4.0</td>\n",
       "    </tr>\n",
       "  </tbody>\n",
       "</table>\n",
       "<p>1935 rows × 2 columns</p>\n",
       "</div>"
      ],
      "text/plain": [
       "      ViewCount  Mean_Score\n",
       "1933     172997       635.0\n",
       "1925      73465       136.0\n",
       "1921      56648       108.0\n",
       "1740       6523       102.0\n",
       "1931     144773        94.0\n",
       "...         ...         ...\n",
       "1131       1402        -2.0\n",
       "1541       3075        -2.0\n",
       "1512       2856        -2.0\n",
       "1720       5811        -3.0\n",
       "1452       2443        -4.0\n",
       "\n",
       "[1935 rows x 2 columns]"
      ]
     },
     "execution_count": 35,
     "metadata": {},
     "output_type": "execute_result"
    }
   ],
   "source": [
    "groupby_viewcount_pd = pd.DataFrame({'Mean_Score': post_sampled_pd.groupby(['ViewCount'])['Score'].mean()}).reset_index()\n",
    "groupby_viewcount_pd.sort_values('Mean_Score', ascending=False)"
   ]
  },
  {
   "cell_type": "markdown",
   "metadata": {},
   "source": [
    "Most of the post doesn't have high view times or score, and the data are focusing in the bottom left. We group by the data and find the posts with highest mean score are single point."
   ]
  },
  {
   "cell_type": "markdown",
   "metadata": {},
   "source": [
    "#### Comment Count"
   ]
  },
  {
   "cell_type": "code",
   "execution_count": 36,
   "metadata": {},
   "outputs": [
    {
     "data": {
      "text/plain": [
       "Text(0, 0.5, 'Score')"
      ]
     },
     "execution_count": 36,
     "metadata": {},
     "output_type": "execute_result"
    },
    {
     "data": {
      "image/png": "[encoded data removed]",
      "text/plain": [
       "<Figure size 720x432 with 1 Axes>"
      ]
     },
     "metadata": {
      "needs_background": "light"
     },
     "output_type": "display_data"
    }
   ],
   "source": [
    "plt.figure(figsize=(10, 6))\n",
    "plt.scatter(post_sampled_pd['CommentCount'], post_sampled_pd['Score'])\n",
    "plt.xlabel('Comment Count')\n",
    "plt.ylabel('Score')"
   ]
  },
  {
   "cell_type": "markdown",
   "metadata": {},
   "source": [
    "#### Answer Count"
   ]
  },
  {
   "cell_type": "code",
   "execution_count": 37,
   "metadata": {},
   "outputs": [
    {
     "data": {
      "text/plain": [
       "Text(0, 0.5, 'Score')"
      ]
     },
     "execution_count": 37,
     "metadata": {},
     "output_type": "execute_result"
    },
    {
     "data": {
      "image/png": "[encoded data removed]",
      "text/plain": [
       "<Figure size 720x432 with 1 Axes>"
      ]
     },
     "metadata": {
      "needs_background": "light"
     },
     "output_type": "display_data"
    }
   ],
   "source": [
    "plt.figure(figsize=(10, 6))\n",
    "plt.scatter(post_sampled_pd['AnswerCount'], post_sampled_pd['Score'])\n",
    "plt.xlabel('Answer Count')\n",
    "plt.ylabel('Score')"
   ]
  },
  {
   "cell_type": "markdown",
   "metadata": {},
   "source": [
    "## Feature Engineering"
   ]
  },
  {
   "cell_type": "markdown",
   "metadata": {},
   "source": [
    "* As we can tell from the plot, the score value is too scattered, so we manually set a threashold for classifaction.\n",
    "* The post score is related to the people votes, so the time when the post is created is related to the number of users who can see this post and how easy the question could be. So the post score is related to time in our assumption. As we can tell, the Creation Year and Month are integer"
   ]
  },
  {
   "cell_type": "code",
   "execution_count": 38,
   "metadata": {},
   "outputs": [],
   "source": [
    "post_df = post_df.withColumn(\"CreationDate_date\", to_date(col(\"CreationDate\")))\n",
    "post_df = post_df.withColumn('CreationYear',year(post_df.CreationDate_date))\n",
    "post_df = post_df.withColumn('CreationMonth',month(post_df.CreationDate_date))"
   ]
  },
  {
   "cell_type": "code",
   "execution_count": 39,
   "metadata": {},
   "outputs": [
    {
     "name": "stdout",
     "output_type": "stream",
     "text": [
      "+-----------+------------+--------------------+---+----------+-----+--------------------+---------+-----------------+------------+-------------+-----+\n",
      "|AnswerCount|CommentCount|        CreationDate| Id|PostTypeId|Score|                Tags|ViewCount|CreationDate_date|CreationYear|CreationMonth|label|\n",
      "+-----------+------------+--------------------+---+----------+-----+--------------------+---------+-----------------+------------+-------------+-----+\n",
      "|          9|           0|2010-07-20T19:09:...|  1|         1|  156|&lt;elementary-se...|     8964|       2010-07-20|        2010|            7|    1|\n",
      "|         21|           4|2010-07-20T19:12:...|  3|         1|  120|&lt;soft-question...|    71991|       2010-07-20|        2010|            7|    1|\n",
      "|          0|           2|2010-07-20T19:14:...|  4|         2|   11|                    |        0|       2010-07-20|        2010|            7|    1|\n",
      "|         14|           7|2010-07-20T19:18:...|  5|         1|   53|&lt;elementary-nu...|    13293|       2010-07-20|        2010|            7|    1|\n",
      "|          9|           0|2010-07-20T19:20:...|  6|         1|   42|&lt;soft-question...|     5273|       2010-07-20|        2010|            7|    1|\n",
      "|          0|          10|2010-07-20T19:21:...|  7|         2|   80|                    |        0|       2010-07-20|        2010|            7|    1|\n",
      "|          8|           0|2010-07-20T19:22:...|  8|         1|   36|&lt;linear-algebr...|     1926|       2010-07-20|        2010|            7|    1|\n",
      "|          0|           1|2010-07-20T19:22:...|  9|         2|  176|                    |        0|       2010-07-20|        2010|            7|    1|\n",
      "|         30|           2|2010-07-20T19:23:...| 11|         1|  283|&lt;real-analysis...|    44724|       2010-07-20|        2010|            7|    1|\n",
      "|          0|           0|2010-07-20T19:23:...| 13|         2|    7|                    |        0|       2010-07-20|        2010|            7|    1|\n",
      "|          0|           6|2010-07-20T19:23:...| 14|         2|   -2|                    |        0|       2010-07-20|        2010|            7|    0|\n",
      "|          0|           1|2010-07-20T19:23:...| 15|         2|   19|                    |        0|       2010-07-20|        2010|            7|    1|\n",
      "|          0|           1|2010-07-20T19:23:...| 16|         2|   23|                    |        0|       2010-07-20|        2010|            7|    1|\n",
      "|          0|           4|2010-07-20T19:23:...| 17|         2|   23|                    |        0|       2010-07-20|        2010|            7|    1|\n",
      "|          2|           7|2010-07-20T19:24:...| 18|         1|    8|    &lt;geometry&gt;|     2647|       2010-07-20|        2010|            7|    1|\n",
      "|         10|          10|2010-07-20T19:25:...| 20|         1|   16|&lt;terminology&g...|     5489|       2010-07-20|        2010|            7|    1|\n",
      "|          4|           0|2010-07-20T19:25:...| 22|         1|   15|&lt;linear-algebr...|     1717|       2010-07-20|        2010|            7|    1|\n",
      "|          0|           0|2010-07-20T19:26:...| 24|         2|    5|                    |        0|       2010-07-20|        2010|            7|    1|\n",
      "|          0|           0|2010-07-20T19:26:...| 26|         2|    4|                    |        0|       2010-07-20|        2010|            7|    0|\n",
      "|         23|           1|2010-07-20T19:27:...| 29|         1|   34|&lt;soft-question...|     2695|       2010-07-20|        2010|            7|    1|\n",
      "+-----------+------------+--------------------+---+----------+-----+--------------------+---------+-----------------+------------+-------------+-----+\n",
      "only showing top 20 rows\n",
      "\n"
     ]
    }
   ],
   "source": [
    "post_df = post_df.withColumn('label',\n",
    "                             F.when((F.col(\"Score\") >= 5), 1).otherwise(0))\n",
    "post_df.show()"
   ]
  },
  {
   "cell_type": "code",
   "execution_count": 40,
   "metadata": {},
   "outputs": [
    {
     "name": "stdout",
     "output_type": "stream",
     "text": [
      "root\n",
      " |-- AnswerCount: integer (nullable = true)\n",
      " |-- CommentCount: integer (nullable = true)\n",
      " |-- CreationDate: string (nullable = true)\n",
      " |-- Id: string (nullable = true)\n",
      " |-- PostTypeId: integer (nullable = true)\n",
      " |-- Score: integer (nullable = true)\n",
      " |-- Tags: string (nullable = true)\n",
      " |-- ViewCount: integer (nullable = true)\n",
      " |-- CreationDate_date: date (nullable = true)\n",
      " |-- CreationYear: integer (nullable = true)\n",
      " |-- CreationMonth: integer (nullable = true)\n",
      " |-- label: integer (nullable = false)\n",
      "\n"
     ]
    }
   ],
   "source": [
    "post_df.printSchema()"
   ]
  },
  {
   "cell_type": "markdown",
   "metadata": {},
   "source": [
    "## Building Model"
   ]
  },
  {
   "cell_type": "code",
   "execution_count": 41,
   "metadata": {},
   "outputs": [],
   "source": [
    "from pyspark.ml.feature import OneHotEncoder, StringIndexer, IndexToString, VectorAssembler\n",
    "from pyspark.ml.classification import RandomForestClassifier\n",
    "from pyspark.ml.evaluation import MulticlassClassificationEvaluator\n",
    "from pyspark.ml import Pipeline, Model"
   ]
  },
  {
   "cell_type": "markdown",
   "metadata": {},
   "source": [
    "Build a assembler containing all the features we have"
   ]
  },
  {
   "cell_type": "code",
   "execution_count": 42,
   "metadata": {},
   "outputs": [],
   "source": [
    "# Let us import the vector assembler\n",
    "from pyspark.ml.feature import VectorAssembler\n",
    "numericCols = [\"AnswerCount\",\n",
    "               \"CommentCount\",\n",
    "               \"ViewCount\",\n",
    "               \"CreationYear\",\n",
    "               \"CreationMonth\",\n",
    "               \"PostTypeId\"]\n",
    "\n",
    "assembler = VectorAssembler(inputCols=numericCols, outputCol=\"features\",handleInvalid=\"skip\")"
   ]
  },
  {
   "cell_type": "markdown",
   "metadata": {},
   "source": [
    "Create a new dataframe containing features we create and predicted values"
   ]
  },
  {
   "cell_type": "code",
   "execution_count": 43,
   "metadata": {},
   "outputs": [],
   "source": [
    "#use the transform method to transform our dataset\n",
    "# cols = post_df.columns\n",
    "post_df = assembler.transform(post_df)\n",
    "selectedCols = [\"features\", \"label\"] \n",
    "df = post_df.select(selectedCols)"
   ]
  },
  {
   "cell_type": "markdown",
   "metadata": {},
   "source": [
    "Split the data into train and test dataset"
   ]
  },
  {
   "cell_type": "code",
   "execution_count": 44,
   "metadata": {},
   "outputs": [],
   "source": [
    "train, test = df.randomSplit([0.7, 0.3], seed = 985)"
   ]
  },
  {
   "cell_type": "code",
   "execution_count": 45,
   "metadata": {},
   "outputs": [
    {
     "name": "stdout",
     "output_type": "stream",
     "text": [
      "+----------------------------+-----+\n",
      "|features                    |label|\n",
      "+----------------------------+-----+\n",
      "|[0.0,0.0,0.0,2010.0,7.0,2.0]|0    |\n",
      "|[0.0,0.0,0.0,2010.0,7.0,2.0]|0    |\n",
      "|[0.0,0.0,0.0,2010.0,7.0,2.0]|0    |\n",
      "|[0.0,0.0,0.0,2010.0,7.0,2.0]|0    |\n",
      "|[0.0,0.0,0.0,2010.0,7.0,2.0]|0    |\n",
      "+----------------------------+-----+\n",
      "only showing top 5 rows\n",
      "\n"
     ]
    }
   ],
   "source": [
    "train.show(5, truncate = False)"
   ]
  },
  {
   "cell_type": "markdown",
   "metadata": {},
   "source": [
    "### Logistic Regression"
   ]
  },
  {
   "cell_type": "markdown",
   "metadata": {},
   "source": [
    "Model fitting"
   ]
  },
  {
   "cell_type": "code",
   "execution_count": 46,
   "metadata": {},
   "outputs": [],
   "source": [
    "from pyspark.ml.classification import LogisticRegression\n",
    "lr = LogisticRegression(featuresCol = 'features', labelCol = 'label', maxIter=10)\n",
    "lrModel = lr.fit(train)"
   ]
  },
  {
   "cell_type": "markdown",
   "metadata": {},
   "source": [
    "Plot the ROC curve and calculate the area under the ROC curve for training set"
   ]
  },
  {
   "cell_type": "code",
   "execution_count": 48,
   "metadata": {},
   "outputs": [
    {
     "name": "stderr",
     "output_type": "stream",
     "text": [
      "/home/hadoop/miniconda/lib/python3.7/site-packages/pyarrow/util.py:39: FutureWarning: pyarrow.open_stream is deprecated as of 0.17.0, please use pyarrow.ipc.open_stream instead\n",
      "  warnings.warn(msg, FutureWarning)\n"
     ]
    },
    {
     "data": {
      "image/png": "[encoded data removed]",
      "text/plain": [
       "<Figure size 432x288 with 1 Axes>"
      ]
     },
     "metadata": {
      "needs_background": "light"
     },
     "output_type": "display_data"
    },
    {
     "name": "stdout",
     "output_type": "stream",
     "text": [
      "Training set areaUnderROC: 0.6213395905828555\n"
     ]
    }
   ],
   "source": [
    "trainingSummary = lrModel.summary\n",
    "roc = trainingSummary.roc.toPandas()\n",
    "plt.plot(roc['FPR'],roc['TPR'])\n",
    "plt.ylabel('False Positive Rate')\n",
    "plt.xlabel('True Positive Rate')\n",
    "plt.title('ROC Curve')\n",
    "plt.show()\n",
    "print('Training set areaUnderROC: ' + str(trainingSummary.areaUnderROC))"
   ]
  },
  {
   "cell_type": "markdown",
   "metadata": {},
   "source": [
    "Transform dataframe into prediction"
   ]
  },
  {
   "cell_type": "code",
   "execution_count": 49,
   "metadata": {},
   "outputs": [
    {
     "name": "stdout",
     "output_type": "stream",
     "text": [
      "+--------------------+-----+--------------------+--------------------+----------+\n",
      "|            features|label|       rawPrediction|         probability|prediction|\n",
      "+--------------------+-----+--------------------+--------------------+----------+\n",
      "|[0.0,0.0,0.0,2010...|    0|[2.21678342846609...|[0.90174657651085...|       0.0|\n",
      "|[0.0,0.0,0.0,2010...|    0|[2.21678342846609...|[0.90174657651085...|       0.0|\n",
      "|[0.0,0.0,0.0,2010...|    0|[2.21678342846609...|[0.90174657651085...|       0.0|\n",
      "|[0.0,0.0,0.0,2010...|    0|[2.21678342846609...|[0.90174657651085...|       0.0|\n",
      "|[0.0,0.0,0.0,2010...|    0|[2.21678342846609...|[0.90174657651085...|       0.0|\n",
      "+--------------------+-----+--------------------+--------------------+----------+\n",
      "only showing top 5 rows\n",
      "\n"
     ]
    }
   ],
   "source": [
    "predictions = lrModel.transform(test)\n",
    "predictions.show(5)"
   ]
  },
  {
   "cell_type": "markdown",
   "metadata": {},
   "source": [
    "Calculate the test area under the ROC curve"
   ]
  },
  {
   "cell_type": "code",
   "execution_count": 50,
   "metadata": {},
   "outputs": [
    {
     "name": "stdout",
     "output_type": "stream",
     "text": [
      "Test Area Under ROC 0.6216519027837475\n"
     ]
    }
   ],
   "source": [
    "from pyspark.ml.evaluation import BinaryClassificationEvaluator\n",
    "evaluator = BinaryClassificationEvaluator()\n",
    "print('Test Area Under ROC', evaluator.evaluate(predictions))"
   ]
  },
  {
   "cell_type": "markdown",
   "metadata": {},
   "source": [
    "### Random Forest Classifier"
   ]
  },
  {
   "cell_type": "markdown",
   "metadata": {},
   "source": [
    "Model fitting"
   ]
  },
  {
   "cell_type": "code",
   "execution_count": 51,
   "metadata": {},
   "outputs": [
    {
     "name": "stdout",
     "output_type": "stream",
     "text": [
      "+--------------------+-----+--------------------+--------------------+----------+\n",
      "|            features|label|       rawPrediction|         probability|prediction|\n",
      "+--------------------+-----+--------------------+--------------------+----------+\n",
      "|[0.0,0.0,0.0,2010...|    0|[17.1301538731863...|[0.85650769365931...|       0.0|\n",
      "|[0.0,0.0,0.0,2010...|    0|[17.1301538731863...|[0.85650769365931...|       0.0|\n",
      "|[0.0,0.0,0.0,2010...|    0|[17.1301538731863...|[0.85650769365931...|       0.0|\n",
      "|[0.0,0.0,0.0,2010...|    0|[17.1301538731863...|[0.85650769365931...|       0.0|\n",
      "|[0.0,0.0,0.0,2010...|    0|[17.1301538731863...|[0.85650769365931...|       0.0|\n",
      "|[0.0,0.0,0.0,2010...|    0|[17.1301538731863...|[0.85650769365931...|       0.0|\n",
      "|[0.0,0.0,0.0,2010...|    0|[17.1301538731863...|[0.85650769365931...|       0.0|\n",
      "|[0.0,0.0,0.0,2010...|    0|[17.1301538731863...|[0.85650769365931...|       0.0|\n",
      "|[0.0,0.0,0.0,2010...|    0|[17.1301538731863...|[0.85650769365931...|       0.0|\n",
      "|[0.0,0.0,0.0,2010...|    0|[17.1301538731863...|[0.85650769365931...|       0.0|\n",
      "+--------------------+-----+--------------------+--------------------+----------+\n",
      "only showing top 10 rows\n",
      "\n"
     ]
    }
   ],
   "source": [
    "from pyspark.ml.classification import RandomForestClassifier\n",
    "rf = RandomForestClassifier(featuresCol = 'features', labelCol = 'label')\n",
    "rfModel = rf.fit(train)\n",
    "predictions = rfModel.transform(test)\n",
    "predictions.show(10)"
   ]
  },
  {
   "cell_type": "markdown",
   "metadata": {},
   "source": [
    "Calculate the test area under the ROC curve"
   ]
  },
  {
   "cell_type": "code",
   "execution_count": 52,
   "metadata": {},
   "outputs": [
    {
     "name": "stdout",
     "output_type": "stream",
     "text": [
      "Test Area Under ROC: 0.7083866369392214\n"
     ]
    }
   ],
   "source": [
    "evaluator = BinaryClassificationEvaluator()\n",
    "print(\"Test Area Under ROC: \" + str(evaluator.evaluate(predictions, {evaluator.metricName: \"areaUnderROC\"})))"
   ]
  },
  {
   "cell_type": "markdown",
   "metadata": {},
   "source": [
    "### Gradient Boosting"
   ]
  },
  {
   "cell_type": "markdown",
   "metadata": {},
   "source": [
    "Model fitting"
   ]
  },
  {
   "cell_type": "code",
   "execution_count": 53,
   "metadata": {},
   "outputs": [
    {
     "name": "stdout",
     "output_type": "stream",
     "text": [
      "+--------------------+-----+--------------------+--------------------+----------+\n",
      "|            features|label|       rawPrediction|         probability|prediction|\n",
      "+--------------------+-----+--------------------+--------------------+----------+\n",
      "|[0.0,0.0,0.0,2010...|    0|[0.19228872580735...|[0.59497665248261...|       0.0|\n",
      "|[0.0,0.0,0.0,2010...|    0|[0.19228872580735...|[0.59497665248261...|       0.0|\n",
      "|[0.0,0.0,0.0,2010...|    0|[0.19228872580735...|[0.59497665248261...|       0.0|\n",
      "|[0.0,0.0,0.0,2010...|    0|[0.19228872580735...|[0.59497665248261...|       0.0|\n",
      "|[0.0,0.0,0.0,2010...|    0|[0.19228872580735...|[0.59497665248261...|       0.0|\n",
      "|[0.0,0.0,0.0,2010...|    0|[0.19228872580735...|[0.59497665248261...|       0.0|\n",
      "|[0.0,0.0,0.0,2010...|    0|[0.19228872580735...|[0.59497665248261...|       0.0|\n",
      "|[0.0,0.0,0.0,2010...|    0|[0.19228872580735...|[0.59497665248261...|       0.0|\n",
      "|[0.0,0.0,0.0,2010...|    0|[0.19228872580735...|[0.59497665248261...|       0.0|\n",
      "|[0.0,0.0,0.0,2010...|    0|[0.19228872580735...|[0.59497665248261...|       0.0|\n",
      "+--------------------+-----+--------------------+--------------------+----------+\n",
      "only showing top 10 rows\n",
      "\n"
     ]
    }
   ],
   "source": [
    "from pyspark.ml.classification import GBTClassifier\n",
    "gbt = GBTClassifier(maxIter=10)\n",
    "gbtModel = gbt.fit(train)\n",
    "predictions = gbtModel.transform(test)\n",
    "predictions.show(10)"
   ]
  },
  {
   "cell_type": "markdown",
   "metadata": {},
   "source": [
    "Calculate the test area under the ROC curve"
   ]
  },
  {
   "cell_type": "code",
   "execution_count": 54,
   "metadata": {},
   "outputs": [
    {
     "name": "stdout",
     "output_type": "stream",
     "text": [
      "Test Area Under ROC: 0.7692929497129346\n"
     ]
    }
   ],
   "source": [
    "evaluator = BinaryClassificationEvaluator()\n",
    "print(\"Test Area Under ROC: \" + str(evaluator.evaluate(predictions, {evaluator.metricName: \"areaUnderROC\"})))"
   ]
  },
  {
   "cell_type": "markdown",
   "metadata": {},
   "source": [
    "Feature importance score in the form of a sparse vector"
   ]
  },
  {
   "cell_type": "code",
   "execution_count": 65,
   "metadata": {},
   "outputs": [
    {
     "data": {
      "text/plain": [
       "SparseVector(6, {0: 0.0509, 1: 0.1492, 2: 0.2929, 3: 0.3615, 4: 0.0323, 5: 0.1131})"
      ]
     },
     "execution_count": 65,
     "metadata": {},
     "output_type": "execute_result"
    }
   ],
   "source": [
    "gbtModel.featureImportances"
   ]
  },
  {
   "cell_type": "markdown",
   "metadata": {},
   "source": [
    "Map this sparse vector to the actual feature names"
   ]
  },
  {
   "cell_type": "code",
   "execution_count": 66,
   "metadata": {},
   "outputs": [],
   "source": [
    "def ExtractFeatureImp(featureImp, dataset, featuresCol):\n",
    "    list_extract = []\n",
    "    for i in dataset.schema[featuresCol].metadata[\"ml_attr\"][\"attrs\"]:\n",
    "        list_extract = list_extract + dataset.schema[featuresCol].metadata[\"ml_attr\"][\"attrs\"][i]\n",
    "    varlist = pd.DataFrame(list_extract)\n",
    "    varlist['score'] = varlist['idx'].apply(lambda x: featureImp[x])\n",
    "    return(varlist.sort_values('score', ascending = False))"
   ]
  },
  {
   "cell_type": "markdown",
   "metadata": {},
   "source": [
    "Plot the data frame of feature importance; 'CreationYear' is the most import feature"
   ]
  },
  {
   "cell_type": "code",
   "execution_count": 67,
   "metadata": {},
   "outputs": [
    {
     "data": {
      "text/html": [
       "<div>\n",
       "<style scoped>\n",
       "    .dataframe tbody tr th:only-of-type {\n",
       "        vertical-align: middle;\n",
       "    }\n",
       "\n",
       "    .dataframe tbody tr th {\n",
       "        vertical-align: top;\n",
       "    }\n",
       "\n",
       "    .dataframe thead th {\n",
       "        text-align: right;\n",
       "    }\n",
       "</style>\n",
       "<table border=\"1\" class=\"dataframe\">\n",
       "  <thead>\n",
       "    <tr style=\"text-align: right;\">\n",
       "      <th></th>\n",
       "      <th>idx</th>\n",
       "      <th>name</th>\n",
       "      <th>score</th>\n",
       "    </tr>\n",
       "  </thead>\n",
       "  <tbody>\n",
       "    <tr>\n",
       "      <th>3</th>\n",
       "      <td>3</td>\n",
       "      <td>CreationYear</td>\n",
       "      <td>0.361503</td>\n",
       "    </tr>\n",
       "    <tr>\n",
       "      <th>2</th>\n",
       "      <td>2</td>\n",
       "      <td>ViewCount</td>\n",
       "      <td>0.292942</td>\n",
       "    </tr>\n",
       "    <tr>\n",
       "      <th>1</th>\n",
       "      <td>1</td>\n",
       "      <td>CommentCount</td>\n",
       "      <td>0.149224</td>\n",
       "    </tr>\n",
       "    <tr>\n",
       "      <th>5</th>\n",
       "      <td>5</td>\n",
       "      <td>PostTypeId</td>\n",
       "      <td>0.113101</td>\n",
       "    </tr>\n",
       "    <tr>\n",
       "      <th>0</th>\n",
       "      <td>0</td>\n",
       "      <td>AnswerCount</td>\n",
       "      <td>0.050913</td>\n",
       "    </tr>\n",
       "    <tr>\n",
       "      <th>4</th>\n",
       "      <td>4</td>\n",
       "      <td>CreationMonth</td>\n",
       "      <td>0.032317</td>\n",
       "    </tr>\n",
       "  </tbody>\n",
       "</table>\n",
       "</div>"
      ],
      "text/plain": [
       "   idx           name     score\n",
       "3    3   CreationYear  0.361503\n",
       "2    2      ViewCount  0.292942\n",
       "1    1   CommentCount  0.149224\n",
       "5    5     PostTypeId  0.113101\n",
       "0    0    AnswerCount  0.050913\n",
       "4    4  CreationMonth  0.032317"
      ]
     },
     "execution_count": 67,
     "metadata": {},
     "output_type": "execute_result"
    }
   ],
   "source": [
    "ExtractFeatureImp(gbtModel.featureImportances, predictions, \"features\")"
   ]
  },
  {
   "cell_type": "markdown",
   "metadata": {},
   "source": [
    "#### This is the model performs best, so we tune it's parameter and validate it on test data"
   ]
  },
  {
   "cell_type": "markdown",
   "metadata": {},
   "source": [
    "From the output, the values for area under ROC increases 0.7692929497129346 to 0.7735560674496587"
   ]
  },
  {
   "cell_type": "code",
   "execution_count": 55,
   "metadata": {},
   "outputs": [
    {
     "data": {
      "text/plain": [
       "0.7735560674496587"
      ]
     },
     "execution_count": 55,
     "metadata": {},
     "output_type": "execute_result"
    }
   ],
   "source": [
    "from pyspark.ml.tuning import ParamGridBuilder, CrossValidator\n",
    "paramGrid = (ParamGridBuilder()\n",
    "             .addGrid(gbt.maxDepth, [4,5,6])\n",
    "             .addGrid(gbt.maxBins, [50, 60])\n",
    "             .addGrid(gbt.maxIter, [10, 20])\n",
    "             .build())\n",
    "cv = CrossValidator(estimator=gbt, estimatorParamMaps=paramGrid, evaluator=evaluator, numFolds=5)\n",
    "# Run cross validations.  This can take about 6 minutes since it is training over 20 trees!\n",
    "cvModel = cv.fit(train)\n",
    "predictions = cvModel.transform(test)\n",
    "evaluator.evaluate(predictions)"
   ]
  },
  {
   "cell_type": "code",
   "execution_count": null,
   "metadata": {},
   "outputs": [],
   "source": []
  }
 ],
 "metadata": {
  "kernelspec": {
   "display_name": "Python 3",
   "language": "python",
   "name": "python3"
  },
  "language_info": {
   "codemirror_mode": {
    "name": "ipython",
    "version": 3
   },
   "file_extension": ".py",
   "mimetype": "text/x-python",
   "name": "python",
   "nbconvert_exporter": "python",
   "pygments_lexer": "ipython3",
   "version": "3.7.7"
  }
 },
 "nbformat": 4,
 "nbformat_minor": 4
}
